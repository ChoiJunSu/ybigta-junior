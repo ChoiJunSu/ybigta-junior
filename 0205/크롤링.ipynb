{
 "cells": [
  {
   "cell_type": "markdown",
   "source": [
    "# 크롤링 실습"
   ],
   "metadata": {
    "collapsed": false
   }
  },
  {
   "cell_type": "code",
   "execution_count": 287,
   "outputs": [
    {
     "name": "stdout",
     "output_type": "stream",
     "text": [
      "Requirement already satisfied: requests in c:\\users\\choi\\anaconda3\\envs\\bd\\lib\\site-packages (2.27.1)\n",
      "Requirement already satisfied: certifi>=2017.4.17 in c:\\users\\choi\\anaconda3\\envs\\bd\\lib\\site-packages (from requests) (2021.10.8)\n",
      "Requirement already satisfied: idna<4,>=2.5 in c:\\users\\choi\\anaconda3\\envs\\bd\\lib\\site-packages (from requests) (3.3)\n",
      "Requirement already satisfied: urllib3<1.27,>=1.21.1 in c:\\users\\choi\\anaconda3\\envs\\bd\\lib\\site-packages (from requests) (1.26.8)\n",
      "Requirement already satisfied: charset-normalizer~=2.0.0 in c:\\users\\choi\\anaconda3\\envs\\bd\\lib\\site-packages (from requests) (2.0.4)\n",
      "Requirement already satisfied: bs4 in c:\\users\\choi\\anaconda3\\envs\\bd\\lib\\site-packages (0.0.1)\n",
      "Requirement already satisfied: beautifulsoup4 in c:\\users\\choi\\anaconda3\\envs\\bd\\lib\\site-packages (from bs4) (4.10.0)\n",
      "Requirement already satisfied: soupsieve>1.2 in c:\\users\\choi\\anaconda3\\envs\\bd\\lib\\site-packages (from beautifulsoup4->bs4) (2.3.1)\n",
      "Requirement already satisfied: selenium in c:\\users\\choi\\anaconda3\\envs\\bd\\lib\\site-packages (4.1.0)\n",
      "Requirement already satisfied: trio-websocket~=0.9 in c:\\users\\choi\\anaconda3\\envs\\bd\\lib\\site-packages (from selenium) (0.9.2)\n",
      "Requirement already satisfied: urllib3[secure]~=1.26 in c:\\users\\choi\\anaconda3\\envs\\bd\\lib\\site-packages (from selenium) (1.26.8)\n",
      "Requirement already satisfied: trio~=0.17 in c:\\users\\choi\\anaconda3\\envs\\bd\\lib\\site-packages (from selenium) (0.19.0)\n",
      "Requirement already satisfied: idna in c:\\users\\choi\\anaconda3\\envs\\bd\\lib\\site-packages (from trio~=0.17->selenium) (3.3)\n",
      "Requirement already satisfied: outcome in c:\\users\\choi\\anaconda3\\envs\\bd\\lib\\site-packages (from trio~=0.17->selenium) (1.1.0)\n",
      "Requirement already satisfied: sortedcontainers in c:\\users\\choi\\anaconda3\\envs\\bd\\lib\\site-packages (from trio~=0.17->selenium) (2.4.0)\n",
      "Requirement already satisfied: async-generator>=1.9 in c:\\users\\choi\\anaconda3\\envs\\bd\\lib\\site-packages (from trio~=0.17->selenium) (1.10)\n",
      "Requirement already satisfied: sniffio in c:\\users\\choi\\anaconda3\\envs\\bd\\lib\\site-packages (from trio~=0.17->selenium) (1.2.0)\n",
      "Requirement already satisfied: attrs>=19.2.0 in c:\\users\\choi\\anaconda3\\envs\\bd\\lib\\site-packages (from trio~=0.17->selenium) (21.4.0)\n",
      "Requirement already satisfied: cffi>=1.14 in c:\\users\\choi\\anaconda3\\envs\\bd\\lib\\site-packages (from trio~=0.17->selenium) (1.15.0)\n",
      "Requirement already satisfied: pycparser in c:\\users\\choi\\anaconda3\\envs\\bd\\lib\\site-packages (from cffi>=1.14->trio~=0.17->selenium) (2.21)\n",
      "Requirement already satisfied: wsproto>=0.14 in c:\\users\\choi\\anaconda3\\envs\\bd\\lib\\site-packages (from trio-websocket~=0.9->selenium) (1.0.0)\n",
      "Requirement already satisfied: cryptography>=1.3.4 in c:\\users\\choi\\anaconda3\\envs\\bd\\lib\\site-packages (from urllib3[secure]~=1.26->selenium) (3.4.8)\n",
      "Requirement already satisfied: certifi in c:\\users\\choi\\anaconda3\\envs\\bd\\lib\\site-packages (from urllib3[secure]~=1.26->selenium) (2021.10.8)\n",
      "Requirement already satisfied: pyOpenSSL>=0.14 in c:\\users\\choi\\anaconda3\\envs\\bd\\lib\\site-packages (from urllib3[secure]~=1.26->selenium) (20.0.1)\n",
      "Requirement already satisfied: six>=1.5.2 in c:\\users\\choi\\anaconda3\\envs\\bd\\lib\\site-packages (from pyOpenSSL>=0.14->urllib3[secure]~=1.26->selenium) (1.16.0)\n",
      "Requirement already satisfied: h11<1,>=0.9.0 in c:\\users\\choi\\anaconda3\\envs\\bd\\lib\\site-packages (from wsproto>=0.14->trio-websocket~=0.9->selenium) (0.13.0)\n"
     ]
    }
   ],
   "source": [
    "# 필요한 라이브러리 다운로드\n",
    "# 이미 설치되어 있으면 실행하지 않으셔도 됩니다\n",
    "\n",
    "!pip3 install requests\n",
    "!pip3 install bs4\n",
    "!pip3 install selenium"
   ],
   "metadata": {
    "collapsed": false,
    "pycharm": {
     "name": "#%%\n"
    }
   }
  },
  {
   "cell_type": "markdown",
   "source": [
    "### GET 요청하기"
   ],
   "metadata": {
    "collapsed": false
   }
  },
  {
   "cell_type": "code",
   "execution_count": 288,
   "outputs": [],
   "source": [
    "import re\n",
    "import requests\n",
    "from bs4 import BeautifulSoup"
   ],
   "metadata": {
    "collapsed": false,
    "pycharm": {
     "name": "#%%\n"
    }
   }
  },
  {
   "cell_type": "code",
   "execution_count": 289,
   "outputs": [
    {
     "data": {
      "text/plain": "[{'이름': '강하늘',\n  '랭킹': '1',\n  '출연영화': ['해적: 도깨비 깃발', '해피 뉴 이어'],\n  '다른 이름': '김하늘',\n  '직업': '배우',\n  '생년월일': '1990-02-21',\n  '성별': '남',\n  '홈페이지': '\\nhttp://weibo.com/galpos3?is_hot=1\\n',\n  '신장/체중': '181cm, 70kg',\n  '학교': '중앙대학교 연극학과'},\n {'이름': '한효주',\n  '랭킹': '2',\n  '출연영화': ['해적: 도깨비 깃발'],\n  '직업': '배우',\n  '생년월일': '1987-02-22',\n  '성별': '여',\n  '홈페이지': '\\nhttps://www.facebook.com/hhj.official\\n',\n  '신장/체중': '170cm',\n  '학교': '동국대학교 연극영화',\n  '취미': '영화감상'},\n {'이름': '이광수',\n  '랭킹': '3',\n  '출연영화': ['해적: 도깨비 깃발', '해피 뉴 이어'],\n  '직업': '배우',\n  '생년월일': '1985-07-14',\n  '성별': '남',\n  '홈페이지': '\\nhttps://twitter.com/masijacoke85\\nhttps://www.instagram.com/masijacoke850714/\\n',\n  '신장/체중': '190cm',\n  '소속사': '킹콩엔터테인먼트'},\n {'이름': '권상우',\n  '랭킹': '4',\n  '출연영화': ['해적: 도깨비 깃발'],\n  '다른 이름': 'Kwon Sang Woo',\n  '직업': '배우',\n  '생년월일': '1976-08-05',\n  '성별': '남',\n  '신장/체중': '183cm, 72kg',\n  '학교': '한남대학교 미술교육학 학사',\n  '취미': '수영, 헬스, 복싱',\n  '특기': '농구',\n  '소속사': '벨액터스 엔터테인먼트'},\n {'이름': '조진웅',\n  '랭킹': '5',\n  '출연영화': ['경관의 피', '1984 최동원'],\n  '다른 이름': '조원준',\n  '직업': '배우',\n  '생년월일': '1976-03-03',\n  '성별': '남',\n  '홈페이지': '\\nhttp://www.facebook.com/saram.chojinwoong\\n',\n  '신장/체중': '185cm, 98kg',\n  '학교': '경성대학교 연극영화',\n  '특기': '진도 북춤',\n  '소속사': '㈜사람엔터테인먼트'},\n {'이름': '박희순',\n  '랭킹': '6',\n  '출연영화': ['경관의 피'],\n  '직업': '배우',\n  '생년월일': '1970-02-13',\n  '성별': '남',\n  '홈페이지': '\\nhttps://twitter.com/sulebari\\n',\n  '신장/체중': '180cm, 70kg',\n  '학교': '서울예술대학 연극과'},\n {'이름': '채수빈',\n  '랭킹': '7',\n  '출연영화': ['해적: 도깨비 깃발'],\n  '직업': '배우',\n  '생년월일': '1994-07-10',\n  '성별': '여',\n  '홈페이지': '\\nhttps://instagram.com/soobinms/\\nhttps://www.facebook.com/OfficialChaesoobin\\n'},\n {'이름': '권율',\n  '랭킹': '8',\n  '출연영화': ['경관의 피'],\n  '다른 이름': '권세인;Kwon Sein',\n  '직업': '배우',\n  '생년월일': '1982-06-29',\n  '성별': '남',\n  '홈페이지': '\\nhttps://www.facebook.com/saram.kwonyul\\n',\n  '학교': '중앙대학교 연극학과'},\n {'이름': '박소담',\n  '랭킹': '9',\n  '출연영화': ['특송'],\n  '직업': '배우',\n  '생년월일': '1991-09-08',\n  '성별': '여',\n  '홈페이지': '\\nhttp://www.artistcompany.co.kr/portfolio-item/park-so-dam/\\n',\n  '소속사': '아티스트컴퍼니'},\n {'이름': '김성오',\n  '랭킹': '10',\n  '출연영화': ['해적: 도깨비 깃발', '킹메이커', '불한당: 나쁜 놈들의 세상'],\n  '직업': '배우',\n  '생년월일': '1978-09-15',\n  '성별': '남',\n  '신장/체중': '180cm, 70kg',\n  '취미': '낚시, 당구',\n  '특기': '스노우보드'},\n {'이름': '박명훈',\n  '랭킹': '11',\n  '출연영화': ['경관의 피', '싸나희 순정'],\n  '직업': '배우',\n  '생년월일': '1975-05-28',\n  '성별': '남'},\n {'이름': '설경구',\n  '랭킹': '12',\n  '출연영화': ['킹메이커', '불한당: 나쁜 놈들의 세상'],\n  '다른 이름': '薛景求',\n  '직업': '배우',\n  '생년월일': '1968-05-01',\n  '성별': '남',\n  '홈페이지': '\\nhttps://www.facebook.com/cjesgyeonggu\\n',\n  '신장/체중': '175cm, 64kg',\n  '학교': '한양대학교 연극영화과 학사'},\n {'이름': '송새벽',\n  '랭킹': '13',\n  '출연영화': ['특송'],\n  '직업': '배우',\n  '생년월일': '1979-12-26',\n  '성별': '남',\n  '홈페이지': '\\nhttps://www.facebook.com/cjessaebyeok\\n',\n  '신장/체중': '179cm, 70kg',\n  '학교': '군산대학교 철학과'},\n {'이름': '오세훈',\n  '랭킹': '14',\n  '출연영화': ['해적: 도깨비 깃발'],\n  '원어명': '세훈',\n  '다른 이름': '엑소;EXO',\n  '직업': '가수',\n  '생년월일': '1994-04-12',\n  '성별': '남',\n  '홈페이지': '\\nhttps://instagram.com/oohsehun/\\n'},\n {'이름': '이선균',\n  '랭킹': '15',\n  '출연영화': ['킹메이커'],\n  '직업': '배우',\n  '생년월일': '1975-03-02',\n  '성별': '남',\n  '신장/체중': '180cm, 70kg',\n  '학교': '한국예술종합학교 연극',\n  '취미': '만화책보기',\n  '소속사': '호두엔터테인먼트'},\n {'이름': '이얼',\n  '랭킹': '16',\n  '출연영화': ['경관의 피'],\n  '직업': '배우',\n  '생년월일': '1964-00-00',\n  '성별': '남'},\n {'이름': '김의성',\n  '랭킹': '17',\n  '출연영화': ['특송'],\n  '직업': '배우',\n  '성별': '남',\n  '홈페이지': '\\nhttp://www.artistcompany.co.kr/portfolio-item/kim-eui-sung/\\n',\n  '소속사': '아티스트컴퍼니'},\n {'이름': '유재명',\n  '랭킹': '18',\n  '출연영화': ['킹메이커'],\n  '직업': '배우',\n  '생년월일': '1973-06-03',\n  '성별': '남'},\n {'이름': '조우진',\n  '랭킹': '19',\n  '출연영화': ['킹메이커'],\n  '다른 이름': '조신제',\n  '직업': '배우',\n  '생년월일': '1979-01-16',\n  '성별': '남'},\n {'이름': '정현준',\n  '랭킹': '20',\n  '출연영화': ['특송'],\n  '직업': '배우',\n  '생년월일': '2011-11-08',\n  '성별': '남'},\n {'이름': '이현욱',\n  '랭킹': '21',\n  '출연영화': ['경관의 피'],\n  '직업': '배우',\n  '생년월일': '1985-06-17',\n  '성별': '남',\n  '신장/체중': '180cm, 68kg'},\n {'이름': '박인환',\n  '랭킹': '22',\n  '출연영화': ['킹메이커'],\n  '직업': '배우',\n  '생년월일': '1945-01-06',\n  '성별': '남',\n  '학교': '중앙대학교 연극영화과 학사'},\n {'이름': '배종옥',\n  '랭킹': '23',\n  '출연영화': ['킹메이커'],\n  '직업': '배우',\n  '생년월일': '1964-05-13',\n  '성별': '여',\n  '신장/체중': '163cm, 45kg',\n  '학교': '중앙대 연극영화 -  중앙대신문방송대학원',\n  '특기': '수상 스키'},\n {'이름': '연우진',\n  '랭킹': '24',\n  '출연영화': ['특송'],\n  '다른 이름': '서지후; 김봉회',\n  '직업': '배우',\n  '생년월일': '1984-07-05',\n  '성별': '남'},\n {'이름': '백현진',\n  '랭킹': '25',\n  '출연영화': ['경관의 피'],\n  '다른 이름': '어어부 밴드; 어어부 프로젝트; Uhuhboo Project',\n  '직업': '배우',\n  '생년월일': '1972-06-29',\n  '성별': '남',\n  '학교': '홍익대학교 조소학과'},\n {'이름': '이해영',\n  '랭킹': '26',\n  '출연영화': ['킹메이커'],\n  '직업': '배우',\n  '생년월일': '1970-09-07',\n  '성별': '남',\n  '홈페이지': '\\nhttp://instagram.com/lee_hae_young_\\n',\n  '학교': '서울예술대학'},\n {'이름': '오륭',\n  '랭킹': '27',\n  '출연영화': ['특송'],\n  '직업': '배우',\n  '생년월일': '1980-07-31',\n  '성별': '남',\n  '홈페이지': '\\nhttp://instagram.com/ryoong56/\\n'},\n {'이름': '박정범',\n  '랭킹': '28',\n  '출연영화': ['경관의 피'],\n  '다른 이름': 'Park Jung Bum',\n  '직업': '감독',\n  '생년월일': '1976-00-00',\n  '성별': '남'},\n {'이름': '서은수',\n  '랭킹': '29',\n  '출연영화': ['킹메이커'],\n  '직업': '배우',\n  '생년월일': '1994-03-02',\n  '성별': '여',\n  '홈페이지': '\\nhttp://instagram.com/jj_minii\\n'},\n {'이름': '박지환',\n  '랭킹': '30',\n  '출연영화': ['해적: 도깨비 깃발', '유체이탈자'],\n  '직업': '배우',\n  '생년월일': '1980-09-05',\n  '성별': '남'},\n {'이름': '염혜란',\n  '랭킹': '31',\n  '출연영화': ['특송', '태일이', '간호중'],\n  '직업': '배우',\n  '생년월일': '1976-00-00',\n  '성별': '여'},\n {'이름': '김종수',\n  '랭킹': '32',\n  '출연영화': ['킹메이커'],\n  '직업': '배우',\n  '생년월일': '1964-11-30',\n  '성별': '남',\n  '홈페이지': '\\nhttp://www.artistcompany.co.kr/portfolio-item/kim-jong-soo/\\n',\n  '소속사': '아티스트컴퍼니'},\n {'이름': '전배수',\n  '랭킹': '33',\n  '출연영화': ['킹메이커'],\n  '직업': '배우',\n  '생년월일': '1970-06-02',\n  '성별': '남'},\n {'이름': '허동원',\n  '랭킹': '34',\n  '출연영화': ['특송'],\n  '직업': '배우',\n  '생년월일': '1980-06-09',\n  '성별': '남'},\n {'이름': '안소명', '랭킹': '35', '출연영화': ['클리포드 더 빅 레드 독'], '직업': '성우', '성별': '여'},\n {'이름': '박유림', '랭킹': '36', '출연영화': ['드라이브 마이 카'], '직업': '배우', '성별': '여'},\n {'이름': '신용우', '랭킹': '37', '출연영화': ['클리포드 더 빅 레드 독'], '직업': '성우', '성별': '남'},\n {'이름': '윤경호',\n  '랭킹': '38',\n  '출연영화': ['킹메이커', '간호중'],\n  '직업': '배우',\n  '생년월일': '1980-07-05',\n  '성별': '남'},\n {'이름': '한지민',\n  '랭킹': '39',\n  '출연영화': ['해피 뉴 이어'],\n  '직업': '배우',\n  '생년월일': '1982-11-05',\n  '성별': '여',\n  '홈페이지': '\\nhttps://www.instagram.com/roma.emo/\\n',\n  '신장/체중': '160cm, 43kg',\n  '학교': '서울여자대학교 사회사업학 학사',\n  '소속사': '아바 엔터테인먼트'},\n {'이름': '이동욱',\n  '랭킹': '40',\n  '출연영화': ['해피 뉴 이어'],\n  '직업': '배우',\n  '생년월일': '1981-11-06',\n  '성별': '남',\n  '홈페이지': '\\nhttps://www.facebook.com/OfficialLeeDongWook\\nhttps://www.instagram.com/leedongwook_official/\\n',\n  '신장/체중': '184cm, 78kg',\n  '학교': '중부대학교 언론방송예술학과',\n  '취미': '운동',\n  '특기': '농구, 스노우보드'},\n {'이름': '임윤아',\n  '랭킹': '41',\n  '출연영화': ['해피 뉴 이어'],\n  '다른 이름': '소녀시대; girlsgeneration; girls generation',\n  '직업': '가수',\n  '생년월일': '1990-05-30',\n  '성별': '여',\n  '홈페이지': '\\nhttps://www.instagram.com/yoona__lim/\\n',\n  '소속사': 'SM엔터테인먼트'},\n {'이름': '이혜영',\n  '랭킹': '42',\n  '출연영화': ['해피 뉴 이어'],\n  '직업': '배우',\n  '생년월일': '1971-12-22',\n  '성별': '여',\n  '신장/체중': '168cm, 48kg',\n  '취미': '영화감상',\n  '소속사': 'HB엔터테인먼트'},\n {'이름': '여민정',\n  '랭킹': '43',\n  '출연영화': ['클리포드 더 빅 레드 독'],\n  '직업': '성우',\n  '생년월일': '1975-05-13',\n  '성별': '여'},\n {'이름': '정진영',\n  '랭킹': '44',\n  '출연영화': ['해피 뉴 이어'],\n  '원어명': '정진영',\n  '직업': '배우',\n  '생년월일': '1964-10-16',\n  '성별': '남',\n  '학교': '서울대학교 국어국문학'},\n {'이름': '김영광',\n  '랭킹': '45',\n  '출연영화': ['해피 뉴 이어'],\n  '직업': '배우',\n  '생년월일': '1987-01-11',\n  '성별': '남',\n  '홈페이지': '\\nhttps://twitter.com/aksakfn12\\nhttps://www.instagram.com/aksakfn12/\\n'},\n {'이름': '서강준',\n  '랭킹': '46',\n  '출연영화': ['해피 뉴 이어'],\n  '다른 이름': '서프라이즈; 이승환',\n  '직업': '배우',\n  '생년월일': '1993-10-12',\n  '성별': '남',\n  '홈페이지': '\\nhttps://www.instagram.com/seokj1012/\\n'},\n {'이름': '고성희',\n  '랭킹': '47',\n  '출연영화': ['해피 뉴 이어'],\n  '직업': '배우',\n  '생년월일': '1990-06-21',\n  '성별': '여',\n  '홈페이지': '\\nhttps://www.facebook.com/saram.gosunghee\\nhttps://instagram.com/krnangel621\\n'},\n {'이름': '이진욱',\n  '랭킹': '48',\n  '출연영화': ['해피 뉴 이어'],\n  '원어명': '이진욱',\n  '직업': '배우',\n  '생년월일': '1981-09-16',\n  '성별': '남',\n  '신장/체중': '185cm, 71kg',\n  '학교': '청주대학교 환경공학 (중퇴)',\n  '소속사': 'HB엔터테인먼트'},\n {'이름': '조준영',\n  '랭킹': '49',\n  '출연영화': ['해피 뉴 이어'],\n  '직업': '배우',\n  '생년월일': '2002-12-26',\n  '성별': '남'},\n {'이름': '원지안',\n  '랭킹': '50',\n  '출연영화': ['해피 뉴 이어'],\n  '직업': '배우',\n  '생년월일': '1999-08-17',\n  '성별': '여'},\n {'이름': '이규형',\n  '랭킹': '51',\n  '출연영화': ['해피 뉴 이어'],\n  '직업': '배우',\n  '생년월일': '1983-11-29',\n  '성별': '남',\n  '홈페이지': '\\nhttps://twitter.com/kh_actor\\nhttps://www.instagram.com/kh_actor/\\n',\n  '학교': '동국대학교 연극과 학사'},\n {'이름': '임성재',\n  '랭킹': '52',\n  '출연영화': ['해피 뉴 이어', '연애 빠진 로맨스'],\n  '직업': '배우',\n  '생년월일': '1987-01-18',\n  '성별': '남'},\n {'이름': '박성일',\n  '랭킹': '53',\n  '출연영화': ['해피 뉴 이어'],\n  '직업': '배우',\n  '생년월일': '1979-11-29',\n  '성별': '남'},\n {'이름': '오인성',\n  '랭킹': '54',\n  '출연영화': ['클리포드 더 빅 레드 독'],\n  '직업': '성우',\n  '생년월일': '1965-11-04',\n  '성별': '남'},\n {'이름': '이중옥', '랭킹': '55', '출연영화': ['해피 뉴 이어'], '직업': '배우', '성별': '남'},\n {'이름': '김승훈',\n  '랭킹': '56',\n  '출연영화': ['해피 뉴 이어'],\n  '직업': '배우',\n  '생년월일': '1976-01-03',\n  '성별': '남'},\n {'이름': '배해선',\n  '랭킹': '57',\n  '출연영화': ['해피 뉴 이어'],\n  '직업': '배우',\n  '생년월일': '1974-05-08',\n  '성별': '여'},\n {'이름': '이숙희', '랭킹': '58', '출연영화': ['미싱타는 여자들'], '성별': '여'},\n {'이름': '남명렬',\n  '랭킹': '59',\n  '출연영화': ['해피 뉴 이어'],\n  '직업': '배우',\n  '생년월일': '1959-05-14',\n  '성별': '남'},\n {'이름': '예리',\n  '랭킹': '60',\n  '출연영화': ['블루버스데이'],\n  '다른 이름': '레드벨벳; 김예림',\n  '직업': '가수',\n  '생년월일': '1999-03-05',\n  '성별': '여',\n  '홈페이지': '\\nhttp://instagram.com/redvelvet.smtown\\nhttp://www.facebook.com/RedVelvet\\n'},\n {'이름': '백은혜',\n  '랭킹': '61',\n  '출연영화': ['해피 뉴 이어'],\n  '직업': '배우',\n  '생년월일': '1986-09-01',\n  '성별': '여'},\n {'이름': '최수민', '랭킹': '62', '출연영화': ['해피 뉴 이어'], '직업': '성우', '성별': '여'},\n {'이름': '한서울', '랭킹': '63', '출연영화': ['해피 뉴 이어'], '직업': '배우', '성별': '여'},\n {'이름': '강영주',\n  '랭킹': '64',\n  '출연영화': ['해피 뉴 이어'],\n  '직업': '배우',\n  '생년월일': '1993-12-12',\n  '성별': '여'},\n {'이름': '신순애', '랭킹': '65', '출연영화': ['미싱타는 여자들'], '성별': '여'},\n {'이름': '박종찬',\n  '랭킹': '66',\n  '출연영화': ['해피 뉴 이어'],\n  '직업': '배우',\n  '생년월일': '1992-07-04',\n  '성별': '남'},\n {'이름': '김지성', '랭킹': '67', '출연영화': ['클리포드 더 빅 레드 독'], '직업': '성우'},\n {'이름': '이지훈',\n  '랭킹': '68',\n  '출연영화': ['해피 뉴 이어', '불한당: 나쁜 놈들의 세상'],\n  '직업': '배우',\n  '생년월일': '1979-03-27',\n  '성별': '남'},\n {'이름': '김용',\n  '랭킹': '69',\n  '출연영화': ['극장판 천재 추리 탐정 셜록홈즈', '리틀 뱀파이어'],\n  '다른 이름': '김용 성우',\n  '직업': '성우',\n  '성별': '남'},\n {'이름': '황태희', '랭킹': '70', '출연영화': ['해피 뉴 이어'], '직업': '배우'}]"
     },
     "execution_count": 289,
     "metadata": {},
     "output_type": "execute_result"
    }
   ],
   "source": [
    "cine21_url = 'http://www.cine21.com/rank/person/content'\n",
    "actors_info_list = list()\n",
    "\n",
    "for page in range(1, 11):\n",
    "    res = requests.post(cine21_url, data={\n",
    "        'section': 'actor',\n",
    "        'period_start': '2022-01',\n",
    "        'gender': 'all',\n",
    "        'page': page\n",
    "    })\n",
    "    soup = BeautifulSoup(res.text, 'html.parser')\n",
    "    actors = soup.select('li.people_li div.name')\n",
    "\n",
    "    grades = soup.select('span.grade')\n",
    "    mov_lists = soup.select('ul.mov_list')\n",
    "\n",
    "    for index, actor in enumerate(actors):\n",
    "        actor_info_dict = dict()\n",
    "        actor_name = re.sub('\\(\\w*\\)', '', actor.text)\n",
    "        actor_info_dict['이름'] = actor_name\n",
    "\n",
    "        actor_info_dict['랭킹'] = grades[index].text\n",
    "        actor_info_dict['출연영화'] = [span.text for span in mov_lists[index].select('li span')]\n",
    "\n",
    "        actor_link = 'http://www.cine21.com' + actor.select_one('a')['href']\n",
    "        response_actor = requests.get(actor_link)\n",
    "        soup_actor = BeautifulSoup(response_actor.text, 'html.parser')\n",
    "        default_info = soup_actor.select_one('ul.default_info')\n",
    "        actor_details = default_info.select('li')\n",
    "\n",
    "        for actor_detail in actor_details:\n",
    "            actor_detail_key = actor_detail.select_one('span.tit').text\n",
    "            actor_detail_value = re.sub('<span.*>.*</span>', '', str(actor_detail))\n",
    "            actor_detail_value = re.sub('<.*?>', '', actor_detail_value)\n",
    "            actor_info_dict[actor_detail_key] = actor_detail_value\n",
    "\n",
    "        actors_info_list.append(actor_info_dict)\n",
    "\n",
    "actors_info_list"
   ],
   "metadata": {
    "collapsed": false,
    "pycharm": {
     "name": "#%%\n"
    }
   }
  }
 ],
 "metadata": {
  "colab": {
   "collapsed_sections": [
    "HtXkLtxHvaeN",
    "-SH_GovCvaeQ",
    "efcyp4K2vaeR",
    "FTnCHuuvvaeV",
    "o72gt6DMvaeX",
    "8xzBUHMuvaeY"
   ],
   "name": "크롤링.ipynb",
   "provenance": []
  },
  "kernelspec": {
   "display_name": "Python 3",
   "language": "python",
   "name": "python3"
  },
  "language_info": {
   "codemirror_mode": {
    "name": "ipython",
    "version": 3
   },
   "file_extension": ".py",
   "mimetype": "text/x-python",
   "name": "python",
   "nbconvert_exporter": "python",
   "pygments_lexer": "ipython3",
   "version": "3.8.8"
  }
 },
 "nbformat": 4,
 "nbformat_minor": 0
}